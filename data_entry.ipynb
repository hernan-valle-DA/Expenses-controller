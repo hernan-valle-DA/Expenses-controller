{
 "cells": [
  {
   "cell_type": "code",
   "execution_count": 6,
   "metadata": {},
   "outputs": [],
   "source": [
    "import psycopg2\n",
    "import hidden\n",
    "import ipywidgets as widgets\n",
    "\n",
    "# Load the secrets\n",
    "secrets = hidden.secrets()\n",
    "\n",
    "\n",
    "conn = psycopg2.connect(host=secrets['host'],\n",
    "        port=secrets['port'],\n",
    "        database=secrets['database'], \n",
    "        user=secrets['user'], \n",
    "        password=secrets['pass'], \n",
    "        connect_timeout=3)"
   ]
  },
  {
   "cell_type": "code",
   "execution_count": 7,
   "metadata": {},
   "outputs": [],
   "source": [
    "# defining widgets\n",
    "cat_widget = widgets.Dropdown(\n",
    "    options=[('Income', 1), ('Household expenses', 2), ('Fruit', 3), ('Veggies', 4), ('Protein', 5), ('Groceries', 6), ('Relax', 7)],\n",
    "    description='Category:',\n",
    ")\n",
    "\n",
    "date_widget = widgets.DatePicker(\n",
    "    description='Transaction date:',\n",
    "    disabled=False\n",
    ")\n",
    "\n",
    "detail_widget = widgets.Text(\n",
    "    placeholder='Insert transaction detail',\n",
    "    description='Transaction detail:',\n",
    "    disabled=False\n",
    ")\n",
    "\n",
    "amount_widget = widgets.FloatText(\n",
    "    description='Total amount:',\n",
    "    disabled=False\n",
    ")\n",
    "\n",
    "submit_button = widgets.Button(description='Submit', button_style='success')"
   ]
  },
  {
   "cell_type": "code",
   "execution_count": 8,
   "metadata": {},
   "outputs": [],
   "source": [
    "# Global list to store rows\n",
    "pending_rows = []\n",
    "\n",
    "def on_add_row(button):\n",
    "    # Get and validate the input\n",
    "    cat_id = cat_widget.value\n",
    "    date = date_widget.value.strftime('%Y-%m-%d') if date_widget.value else None\n",
    "    detail = detail_widget.value\n",
    "    amount = amount_widget.value\n",
    "\n",
    "    if not (cat_id and date and detail and amount):\n",
    "        print('Please fill all the fields')\n",
    "        return\n",
    "\n",
    "    row = [cat_id, date, detail, amount]\n",
    "    pending_rows.append(row)\n",
    "    print(f\"Row added: {row}\")\n",
    "\n",
    "def on_submit_all(button):\n",
    "    if not pending_rows:\n",
    "        print(\"No rows to insert\")\n",
    "        return\n",
    "\n",
    "    sql = \"\"\"INSERT INTO transactions (cat_id, tran_date, detail, total_amount) \n",
    "             VALUES (%s, %s, %s, %s)\"\"\"\n",
    "    try:\n",
    "        with conn.cursor() as cur:\n",
    "            cur.executemany(sql, pending_rows)\n",
    "        conn.commit()\n",
    "        print(f\"{len(pending_rows)} transaction(s) inserted successfully\")\n",
    "        pending_rows.clear()  # Clear the list after insertion\n",
    "    except Exception as e:\n",
    "        conn.rollback()\n",
    "        print(f'Error inserting transactions: {e}')\n",
    "\n"
   ]
  },
  {
   "cell_type": "code",
   "execution_count": 10,
   "metadata": {},
   "outputs": [
    {
     "data": {
      "application/vnd.jupyter.widget-view+json": {
       "model_id": "a56cbd611eaf4ac8b18e47756872029c",
       "version_major": 2,
       "version_minor": 0
      },
      "text/plain": [
       "Dropdown(description='Category:', options=(('Income', 1), ('Household expenses', 2), ('Fruit', 3), ('Veggies',…"
      ]
     },
     "metadata": {},
     "output_type": "display_data"
    },
    {
     "data": {
      "application/vnd.jupyter.widget-view+json": {
       "model_id": "ce6e71bd6be6484face3e15576753808",
       "version_major": 2,
       "version_minor": 0
      },
      "text/plain": [
       "DatePicker(value=None, description='Transaction date:', step=1)"
      ]
     },
     "metadata": {},
     "output_type": "display_data"
    },
    {
     "data": {
      "application/vnd.jupyter.widget-view+json": {
       "model_id": "295cff67c0c6411c859997c2e149c07e",
       "version_major": 2,
       "version_minor": 0
      },
      "text/plain": [
       "Text(value='', description='Transaction detail:', placeholder='Insert transaction detail')"
      ]
     },
     "metadata": {},
     "output_type": "display_data"
    },
    {
     "data": {
      "application/vnd.jupyter.widget-view+json": {
       "model_id": "7ec675dcbcb84d7b9d761b5bd5f54bd3",
       "version_major": 2,
       "version_minor": 0
      },
      "text/plain": [
       "FloatText(value=0.0, description='Total amount:')"
      ]
     },
     "metadata": {},
     "output_type": "display_data"
    },
    {
     "data": {
      "application/vnd.jupyter.widget-view+json": {
       "model_id": "4b74f5d9989042a2b55001525f312e08",
       "version_major": 2,
       "version_minor": 0
      },
      "text/plain": [
       "Button(description='Add Row', style=ButtonStyle())"
      ]
     },
     "metadata": {},
     "output_type": "display_data"
    },
    {
     "data": {
      "application/vnd.jupyter.widget-view+json": {
       "model_id": "fe280050a26b45b083d9eedc2feca29b",
       "version_major": 2,
       "version_minor": 0
      },
      "text/plain": [
       "Button(description='Submit All', style=ButtonStyle())"
      ]
     },
     "metadata": {},
     "output_type": "display_data"
    }
   ],
   "source": [
    "# Create two buttons: one for adding a row and one for submitting all rows\n",
    "add_row_button = widgets.Button(description=\"Add Row\")\n",
    "submit_all_button = widgets.Button(description=\"Submit All\")\n",
    "\n",
    "add_row_button.on_click(on_add_row)\n",
    "submit_all_button.on_click(on_submit_all)\n",
    "\n",
    "display(cat_widget, date_widget, detail_widget, amount_widget, add_row_button, submit_all_button)"
   ]
  }
 ],
 "metadata": {
  "kernelspec": {
   "display_name": "Python 3",
   "language": "python",
   "name": "python3"
  },
  "language_info": {
   "codemirror_mode": {
    "name": "ipython",
    "version": 3
   },
   "file_extension": ".py",
   "mimetype": "text/x-python",
   "name": "python",
   "nbconvert_exporter": "python",
   "pygments_lexer": "ipython3",
   "version": "3.12.6"
  }
 },
 "nbformat": 4,
 "nbformat_minor": 2
}
